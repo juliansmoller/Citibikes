{
 "cells": [
  {
   "cell_type": "markdown",
   "metadata": {
    "deletable": true,
    "editable": true
   },
   "source": [
    "# README"
   ]
  },
  {
   "cell_type": "code",
   "execution_count": 1,
   "metadata": {
    "collapsed": false,
    "deletable": true,
    "editable": true
   },
   "outputs": [
    {
     "name": "stdout",
     "output_type": "stream",
     "text": [
      "\n",
      "Julian Smoller ~ 6/12/2017\n",
      "\n",
      "The purpose of this project to is develop and test\n",
      "the different components required to create a map \n",
      "of Citibike stations in NYC. \n",
      "\n"
     ]
    }
   ],
   "source": [
    "README = '''\n",
    "Julian Smoller ~ 6/12/2017\n",
    "\n",
    "The purpose of this project to is develop and test\n",
    "the different components required to create a map \n",
    "of Citibike stations in NYC. \n",
    "'''\n",
    "print(README)"
   ]
  },
  {
   "cell_type": "markdown",
   "metadata": {
    "deletable": true,
    "editable": true
   },
   "source": [
    "# Libraries"
   ]
  },
  {
   "cell_type": "code",
   "execution_count": 2,
   "metadata": {
    "collapsed": true,
    "deletable": true,
    "editable": true
   },
   "outputs": [],
   "source": [
    "\n",
    "# Custom classes for this project\n",
    "import CitibikeDataDownloader\n",
    "import CitibikeDataParser\n",
    "import GeoCoordinateConverter\n",
    "import GoogleMapDownloader\n",
    "import MapMaker\n",
    "\n",
    "# General\n",
    "import pickle\n",
    "from PIL import Image\n",
    "from matplotlib.pyplot import imshow\n",
    "import pandas as pd\n",
    "import numpy as np\n",
    "import math\n",
    "import time\n",
    "\n",
    "\n",
    "% matplotlib inline"
   ]
  },
  {
   "cell_type": "code",
   "execution_count": 3,
   "metadata": {
    "collapsed": false
   },
   "outputs": [],
   "source": [
    "def show(im):\n",
    "    return imshow(np.asarray(im))"
   ]
  },
  {
   "cell_type": "markdown",
   "metadata": {},
   "source": [
    "# CitibikeDataDownloader"
   ]
  },
  {
   "cell_type": "code",
   "execution_count": 4,
   "metadata": {
    "collapsed": false
   },
   "outputs": [],
   "source": [
    "# Initialize\n",
    "cdd = CitibikeDataDownloader.CitibikeDataDownloader()"
   ]
  },
  {
   "cell_type": "code",
   "execution_count": 5,
   "metadata": {
    "collapsed": false
   },
   "outputs": [
    {
     "data": {
      "text/plain": [
       "b'{\"executionTime\":\"2017-06-13 03:07:43 PM\",\"stationBeanList\":[{\"id\":72,\"stationName\":\"W 52 St & 11 Ave\",\"availableDocks\":34,\"totalDocks\":39,\"latitude\":40.76727216,\"longitude\":-73.99392888,\"statusValue\":\"In Service\",\"statusKey\":1,\"availableBikes\":3,\"stAddress1\":\"W 52 St & 11 Ave\",\"stAddress2\":\"\",\"city\":\"\",\"postalCode\":\"\",\"location\":\"\",\"altitude\":\"\",\"testStation\":false,\"lastCommunicationTime\":\"2017-06-13 03:06:34 PM\",\"landMark\":\"\"},{\"id\":79,\"stationName\":\"Franklin St & W Broadway\",\"availableDocks\":10,\"totalDocks\":33,\"latitude\":40.71911552,\"longitude\":-74.00666661,\"statusValue\":\"In Service\",\"statusKey\":1,\"availableBikes\":20,\"stAddress1\":\"Franklin St & W Broadway\",\"stAddress2\":\"\",\"city\":\"\",\"postalCode\":\"\",\"location\":\"\",\"altitude\":\"\",\"testStation\":false,\"lastCommunicationTime\":\"2017-06-13 03:07:28 PM\",\"landMark\":\"\"},{\"id\":82,\"stationName\":\"St James Pl & Pearl St\",\"availableDocks\":1,\"totalDocks\":27,\"latitude\":40.71117416,\"longitude\":-74.00016545,\"statusValue\":\"In Service\",\"statusKey\":1,\"avail'"
      ]
     },
     "execution_count": 5,
     "metadata": {},
     "output_type": "execute_result"
    }
   ],
   "source": [
    "# Download\n",
    "data = cdd.download()\n",
    "data[:1000]"
   ]
  },
  {
   "cell_type": "markdown",
   "metadata": {
    "collapsed": true,
    "deletable": true,
    "editable": true
   },
   "source": [
    "# CitibikeDataParser"
   ]
  },
  {
   "cell_type": "code",
   "execution_count": 6,
   "metadata": {
    "collapsed": false
   },
   "outputs": [
    {
     "name": "stdout",
     "output_type": "stream",
     "text": [
      "2017-06-13 03:07:43 PM\n",
      "{'lon0': -74.096936600000006, 'lon1': -73.929891100000006, 'lat0': 40.661063371900603, 'lat1': 40.804212999999997}\n",
      "666\n"
     ]
    },
    {
     "data": {
      "text/html": [
       "<div>\n",
       "<table border=\"1\" class=\"dataframe\">\n",
       "  <thead>\n",
       "    <tr style=\"text-align: right;\">\n",
       "      <th></th>\n",
       "      <th>altitude</th>\n",
       "      <th>availableBikes</th>\n",
       "      <th>availableDocks</th>\n",
       "      <th>city</th>\n",
       "      <th>id</th>\n",
       "      <th>landMark</th>\n",
       "      <th>lastCommunicationTime</th>\n",
       "      <th>latitude</th>\n",
       "      <th>location</th>\n",
       "      <th>longitude</th>\n",
       "      <th>postalCode</th>\n",
       "      <th>stAddress1</th>\n",
       "      <th>stAddress2</th>\n",
       "      <th>stationName</th>\n",
       "      <th>statusKey</th>\n",
       "      <th>statusValue</th>\n",
       "      <th>testStation</th>\n",
       "      <th>totalDocks</th>\n",
       "    </tr>\n",
       "  </thead>\n",
       "  <tbody>\n",
       "    <tr>\n",
       "      <th>0</th>\n",
       "      <td></td>\n",
       "      <td>3</td>\n",
       "      <td>34</td>\n",
       "      <td></td>\n",
       "      <td>72</td>\n",
       "      <td></td>\n",
       "      <td>2017-06-13 03:06:34 PM</td>\n",
       "      <td>40.767272</td>\n",
       "      <td></td>\n",
       "      <td>-73.993929</td>\n",
       "      <td></td>\n",
       "      <td>W 52 St &amp; 11 Ave</td>\n",
       "      <td></td>\n",
       "      <td>W 52 St &amp; 11 Ave</td>\n",
       "      <td>1</td>\n",
       "      <td>In Service</td>\n",
       "      <td>False</td>\n",
       "      <td>39</td>\n",
       "    </tr>\n",
       "    <tr>\n",
       "      <th>1</th>\n",
       "      <td></td>\n",
       "      <td>20</td>\n",
       "      <td>10</td>\n",
       "      <td></td>\n",
       "      <td>79</td>\n",
       "      <td></td>\n",
       "      <td>2017-06-13 03:07:28 PM</td>\n",
       "      <td>40.719116</td>\n",
       "      <td></td>\n",
       "      <td>-74.006667</td>\n",
       "      <td></td>\n",
       "      <td>Franklin St &amp; W Broadway</td>\n",
       "      <td></td>\n",
       "      <td>Franklin St &amp; W Broadway</td>\n",
       "      <td>1</td>\n",
       "      <td>In Service</td>\n",
       "      <td>False</td>\n",
       "      <td>33</td>\n",
       "    </tr>\n",
       "  </tbody>\n",
       "</table>\n",
       "</div>"
      ],
      "text/plain": [
       "  altitude  availableBikes  availableDocks city  id landMark  \\\n",
       "0                        3              34       72            \n",
       "1                       20              10       79            \n",
       "\n",
       "    lastCommunicationTime   latitude location  longitude postalCode  \\\n",
       "0  2017-06-13 03:06:34 PM  40.767272          -73.993929              \n",
       "1  2017-06-13 03:07:28 PM  40.719116          -74.006667              \n",
       "\n",
       "                 stAddress1 stAddress2               stationName  statusKey  \\\n",
       "0          W 52 St & 11 Ave                     W 52 St & 11 Ave          1   \n",
       "1  Franklin St & W Broadway             Franklin St & W Broadway          1   \n",
       "\n",
       "  statusValue testStation  totalDocks  \n",
       "0  In Service       False          39  \n",
       "1  In Service       False          33  "
      ]
     },
     "execution_count": 6,
     "metadata": {},
     "output_type": "execute_result"
    }
   ],
   "source": [
    "# Initialize\n",
    "cdp = CitibikeDataParser.CitibikeDataParser()\n",
    "# Parse\n",
    "cdp.parse(data)\n",
    "# Execution time\n",
    "print(cdp.execution_time)\n",
    "# Geo region\n",
    "print(cdp.geo_region)\n",
    "# Stations\n",
    "print(len(cdp.stations))\n",
    "cdp.stations.head(2)"
   ]
  },
  {
   "cell_type": "code",
   "execution_count": 7,
   "metadata": {
    "collapsed": false
   },
   "outputs": [
    {
     "data": {
      "text/plain": [
       "{'lat0': 40.661063371900603,\n",
       " 'lat1': 40.804212999999997,\n",
       " 'lon0': -74.096936600000006,\n",
       " 'lon1': -73.929891100000006}"
      ]
     },
     "execution_count": 7,
     "metadata": {},
     "output_type": "execute_result"
    }
   ],
   "source": [
    "# Save\n",
    "cdp.save()\n",
    "# Load\n",
    "cdp = pickle.load(open(cdp.path_default,'rb'))\n",
    "cdp.geo_region"
   ]
  },
  {
   "cell_type": "markdown",
   "metadata": {},
   "source": [
    "# GeoCoordinateConverter"
   ]
  },
  {
   "cell_type": "code",
   "execution_count": 8,
   "metadata": {
    "collapsed": false
   },
   "outputs": [
    {
     "name": "stdout",
     "output_type": "stream",
     "text": [
      "{'lon0': -74.096936600000006, 'lon1': -73.929891100000006, 'lat0': 40.661063371900603, 'lat1': 40.804212999999997}\n",
      "{'lon0': -74.113641150000007, 'lon1': -73.913186550000006, 'lat0': 40.646748409090662, 'lat1': 40.818527962809938}\n"
     ]
    }
   ],
   "source": [
    "def add_border_to_geo_region(geo_region,border_size=0.1):\n",
    "    '''Add a border of given size (e.g. 10%) to a geo region'''\n",
    "    lat_span = geo_region['lat1']-geo_region['lat0']\n",
    "    lon_span = geo_region['lon1']-geo_region['lon0']\n",
    "    lat_border = lat_span * border_size\n",
    "    lon_border = lon_span * border_size\n",
    "    geo_region_with_border = {}\n",
    "    geo_region_with_border['lat0'] = geo_region['lat0'] - lat_border\n",
    "    geo_region_with_border['lat1'] = geo_region['lat1'] + lat_border\n",
    "    geo_region_with_border['lon0'] = geo_region['lon0'] - lon_border\n",
    "    geo_region_with_border['lon1'] = geo_region['lon1'] + lon_border\n",
    "    return geo_region_with_border\n",
    "geo_region_with_border = add_border_to_geo_region(cdp.geo_region)\n",
    "print(cdp.geo_region)\n",
    "print(geo_region_with_border)"
   ]
  },
  {
   "cell_type": "code",
   "execution_count": 9,
   "metadata": {
    "collapsed": false
   },
   "outputs": [
    {
     "name": "stdout",
     "output_type": "stream",
     "text": [
      "0.2004546 degrees longitude >> 9342 pixels\n",
      "0.171779553719 degrees latitude >> 10565 pixels\n",
      "NYC apartment:\n",
      "5217 x\n",
      "4559 y\n"
     ]
    }
   ],
   "source": [
    "# Initialize\n",
    "gcc = GeoCoordinateConverter.GeoCoordinateConverter(geo_region_with_border)\n",
    "\n",
    "# Calculate total image size\n",
    "print(gcc.lon_span,'degrees longitude >>',gcc.x,'pixels')\n",
    "print(gcc.lat_span,'degrees latitude >>',gcc.y,'pixels')\n",
    "\n",
    "# Convert lon/lat to x/y\n",
    "my_nyc_apt = {}\n",
    "my_nyc_apt['lat'] = 40.744419\n",
    "my_nyc_apt['lon'] = -74.001684\n",
    "print('NYC apartment:')\n",
    "print(gcc.lon_to_x(my_nyc_apt['lon']),'x')\n",
    "print (gcc.lat_to_y(my_nyc_apt['lat']),'y')"
   ]
  },
  {
   "cell_type": "markdown",
   "metadata": {
    "deletable": true,
    "editable": true
   },
   "source": [
    "# GoogleMapDownloader"
   ]
  },
  {
   "cell_type": "code",
   "execution_count": 10,
   "metadata": {
    "collapsed": false,
    "deletable": true,
    "editable": true
   },
   "outputs": [],
   "source": [
    "# Initialize\n",
    "gmd = GoogleMapDownloader.GoogleMapDownloader()"
   ]
  },
  {
   "cell_type": "code",
   "execution_count": 11,
   "metadata": {
    "collapsed": false,
    "deletable": true,
    "editable": true
   },
   "outputs": [
    {
     "name": "stdout",
     "output_type": "stream",
     "text": [
      "40.744419\n",
      "-74.001684\n",
      "640\n",
      "640\n",
      "46600.0\n",
      "61500.0\n",
      "0.013733905579399141\n",
      "0.01040650406504065\n",
      "data/GoogleMapDownloader\n",
      "data/GoogleMapDownloader/downloads\n",
      "data/GoogleMapDownloader/downloads/default.jpg\n"
     ]
    }
   ],
   "source": [
    "# Basic properties\n",
    "print(gmd.lat_default)\n",
    "print(gmd.lon_default)\n",
    "print(gmd.x_pixels_per_image)\n",
    "print(gmd.y_pixels_per_image)\n",
    "print(gmd.x_pixels_per_lon)\n",
    "print(gmd.y_pixels_per_lat)\n",
    "print(gmd.lon_per_image)\n",
    "print(gmd.lat_per_image)\n",
    "print(gmd.path_directory)\n",
    "print(gmd.path_downloads)\n",
    "print(gmd.path_default)"
   ]
  },
  {
   "cell_type": "code",
   "execution_count": 12,
   "metadata": {
    "collapsed": false,
    "deletable": true,
    "editable": true
   },
   "outputs": [
    {
     "data": {
      "text/plain": [
       "'https://maps.googleapis.com/maps/api/staticmap?center=40.744419,-74.001684&zoom=16&size=1000x1000&maptype=roadmap'"
      ]
     },
     "execution_count": 12,
     "metadata": {},
     "output_type": "execute_result"
    }
   ],
   "source": [
    "# Generate URL\n",
    "gmd.get_url()"
   ]
  },
  {
   "cell_type": "code",
   "execution_count": 13,
   "metadata": {
    "collapsed": false,
    "deletable": true,
    "editable": true
   },
   "outputs": [
    {
     "data": {
      "text/plain": [
       "<matplotlib.image.AxesImage at 0x7f79a408c588>"
      ]
     },
     "execution_count": 13,
     "metadata": {},
     "output_type": "execute_result"
    },
    {
     "data": {
      "image/png": "[encoded data removed]",
      "text/plain": [
       "<matplotlib.figure.Figure at 0x7f79a422f5f8>"
      ]
     },
     "metadata": {},
     "output_type": "display_data"
    }
   ],
   "source": [
    "# Download map\n",
    "path = gmd.download() # returns path: default path if none provided\n",
    "show(Image.open(path))"
   ]
  },
  {
   "cell_type": "markdown",
   "metadata": {},
   "source": [
    "# MapMaker"
   ]
  },
  {
   "cell_type": "code",
   "execution_count": 14,
   "metadata": {
    "collapsed": false
   },
   "outputs": [
    {
     "name": "stdout",
     "output_type": "stream",
     "text": [
      "9342 10565\n"
     ]
    },
    {
     "ename": "TypeError",
     "evalue": "dice() got multiple values for argument 'segment'",
     "output_type": "error",
     "traceback": [
      "\u001b[0;31m---------------------------------------------------------------------------\u001b[0m",
      "\u001b[0;31mTypeError\u001b[0m                                 Traceback (most recent call last)",
      "\u001b[0;32m<ipython-input-14-d74db5db9a39>\u001b[0m in \u001b[0;36m<module>\u001b[0;34m()\u001b[0m\n\u001b[1;32m      1\u001b[0m \u001b[0mmm\u001b[0m \u001b[0;34m=\u001b[0m \u001b[0mMapMaker\u001b[0m\u001b[0;34m.\u001b[0m\u001b[0mMapMaker\u001b[0m\u001b[0;34m(\u001b[0m\u001b[0mgeo_region_with_border\u001b[0m\u001b[0;34m)\u001b[0m\u001b[0;34m\u001b[0m\u001b[0m\n\u001b[1;32m      2\u001b[0m \u001b[0mprint\u001b[0m\u001b[0;34m(\u001b[0m\u001b[0mmm\u001b[0m\u001b[0;34m.\u001b[0m\u001b[0mgcc\u001b[0m\u001b[0;34m.\u001b[0m\u001b[0mx\u001b[0m\u001b[0;34m,\u001b[0m\u001b[0mmm\u001b[0m\u001b[0;34m.\u001b[0m\u001b[0mgcc\u001b[0m\u001b[0;34m.\u001b[0m\u001b[0my\u001b[0m\u001b[0;34m)\u001b[0m\u001b[0;34m\u001b[0m\u001b[0m\n\u001b[0;32m----> 3\u001b[0;31m \u001b[0mmm\u001b[0m\u001b[0;34m.\u001b[0m\u001b[0mposition_maps\u001b[0m\u001b[0;34m(\u001b[0m\u001b[0;34m)\u001b[0m\u001b[0;34m\u001b[0m\u001b[0m\n\u001b[0m\u001b[1;32m      4\u001b[0m \u001b[0mprint\u001b[0m\u001b[0;34m(\u001b[0m\u001b[0mmm\u001b[0m\u001b[0;34m.\u001b[0m\u001b[0mn_images_x\u001b[0m\u001b[0;34m,\u001b[0m\u001b[0mmm\u001b[0m\u001b[0;34m.\u001b[0m\u001b[0mn_images_y\u001b[0m\u001b[0;34m)\u001b[0m\u001b[0;34m\u001b[0m\u001b[0m\n\u001b[1;32m      5\u001b[0m \u001b[0mmm\u001b[0m\u001b[0;34m.\u001b[0m\u001b[0mmaps\u001b[0m\u001b[0;34m.\u001b[0m\u001b[0mhead\u001b[0m\u001b[0;34m(\u001b[0m\u001b[0;34m)\u001b[0m\u001b[0;34m\u001b[0m\u001b[0m\n",
      "\u001b[0;32m/home/juliansmoller/Julian/Citibikes/MapMaker.py\u001b[0m in \u001b[0;36mposition_maps\u001b[0;34m(self)\u001b[0m\n\u001b[1;32m     40\u001b[0m         \u001b[0mself\u001b[0m\u001b[0;34m.\u001b[0m\u001b[0mn_images_x\u001b[0m \u001b[0;34m=\u001b[0m \u001b[0mint\u001b[0m\u001b[0;34m(\u001b[0m\u001b[0mmath\u001b[0m\u001b[0;34m.\u001b[0m\u001b[0mceil\u001b[0m\u001b[0;34m(\u001b[0m\u001b[0mabs\u001b[0m\u001b[0;34m(\u001b[0m\u001b[0mself\u001b[0m\u001b[0;34m.\u001b[0m\u001b[0mgcc\u001b[0m\u001b[0;34m.\u001b[0m\u001b[0mlon_span\u001b[0m\u001b[0;34m)\u001b[0m\u001b[0;34m/\u001b[0m\u001b[0mself\u001b[0m\u001b[0;34m.\u001b[0m\u001b[0mgmd\u001b[0m\u001b[0;34m.\u001b[0m\u001b[0mlon_per_image\u001b[0m\u001b[0;34m)\u001b[0m\u001b[0;34m)\u001b[0m\u001b[0;34m\u001b[0m\u001b[0m\n\u001b[1;32m     41\u001b[0m         \u001b[0mself\u001b[0m\u001b[0;34m.\u001b[0m\u001b[0mn_images_y\u001b[0m \u001b[0;34m=\u001b[0m \u001b[0mint\u001b[0m\u001b[0;34m(\u001b[0m\u001b[0mmath\u001b[0m\u001b[0;34m.\u001b[0m\u001b[0mceil\u001b[0m\u001b[0;34m(\u001b[0m\u001b[0mabs\u001b[0m\u001b[0;34m(\u001b[0m\u001b[0mself\u001b[0m\u001b[0;34m.\u001b[0m\u001b[0mgcc\u001b[0m\u001b[0;34m.\u001b[0m\u001b[0mlon_span\u001b[0m\u001b[0;34m)\u001b[0m\u001b[0;34m/\u001b[0m\u001b[0mself\u001b[0m\u001b[0;34m.\u001b[0m\u001b[0mgmd\u001b[0m\u001b[0;34m.\u001b[0m\u001b[0mlat_per_image\u001b[0m\u001b[0;34m)\u001b[0m\u001b[0;34m)\u001b[0m\u001b[0;34m\u001b[0m\u001b[0m\n\u001b[0;32m---> 42\u001b[0;31m         \u001b[0mself\u001b[0m\u001b[0;34m.\u001b[0m\u001b[0mlons\u001b[0m \u001b[0;34m=\u001b[0m \u001b[0mself\u001b[0m\u001b[0;34m.\u001b[0m\u001b[0mdice\u001b[0m\u001b[0;34m(\u001b[0m\u001b[0msegment\u001b[0m\u001b[0;34m=\u001b[0m\u001b[0;34m[\u001b[0m\u001b[0mself\u001b[0m\u001b[0;34m.\u001b[0m\u001b[0mgcc\u001b[0m\u001b[0;34m.\u001b[0m\u001b[0mlon0\u001b[0m\u001b[0;34m,\u001b[0m\u001b[0mself\u001b[0m\u001b[0;34m.\u001b[0m\u001b[0mgcc\u001b[0m\u001b[0;34m.\u001b[0m\u001b[0mlon1\u001b[0m\u001b[0;34m]\u001b[0m\u001b[0;34m,\u001b[0m\u001b[0mn\u001b[0m\u001b[0;34m=\u001b[0m\u001b[0mself\u001b[0m\u001b[0;34m.\u001b[0m\u001b[0mn_images_x\u001b[0m\u001b[0;34m)\u001b[0m\u001b[0;34m\u001b[0m\u001b[0m\n\u001b[0m\u001b[1;32m     43\u001b[0m         \u001b[0mself\u001b[0m\u001b[0;34m.\u001b[0m\u001b[0mlats\u001b[0m \u001b[0;34m=\u001b[0m \u001b[0mself\u001b[0m\u001b[0;34m.\u001b[0m\u001b[0mdice\u001b[0m\u001b[0;34m(\u001b[0m\u001b[0msegment\u001b[0m\u001b[0;34m=\u001b[0m\u001b[0;34m[\u001b[0m\u001b[0mself\u001b[0m\u001b[0;34m.\u001b[0m\u001b[0mgcc\u001b[0m\u001b[0;34m.\u001b[0m\u001b[0mlat0\u001b[0m\u001b[0;34m,\u001b[0m\u001b[0mself\u001b[0m\u001b[0;34m.\u001b[0m\u001b[0mgcc\u001b[0m\u001b[0;34m.\u001b[0m\u001b[0mlat1\u001b[0m\u001b[0;34m]\u001b[0m\u001b[0;34m,\u001b[0m\u001b[0mn\u001b[0m\u001b[0;34m=\u001b[0m\u001b[0mself\u001b[0m\u001b[0;34m.\u001b[0m\u001b[0mn_images_y\u001b[0m\u001b[0;34m)\u001b[0m\u001b[0;34m\u001b[0m\u001b[0m\n\u001b[1;32m     44\u001b[0m         \u001b[0mself\u001b[0m\u001b[0;34m.\u001b[0m\u001b[0mmaps\u001b[0m \u001b[0;34m=\u001b[0m \u001b[0;34m[\u001b[0m\u001b[0;34m(\u001b[0m\u001b[0mlon\u001b[0m\u001b[0;34m,\u001b[0m\u001b[0mlat\u001b[0m\u001b[0;34m)\u001b[0m \u001b[0;32mfor\u001b[0m \u001b[0mlon\u001b[0m \u001b[0;32min\u001b[0m \u001b[0mself\u001b[0m\u001b[0;34m.\u001b[0m\u001b[0mlons\u001b[0m \u001b[0;32mfor\u001b[0m \u001b[0mlat\u001b[0m \u001b[0;32min\u001b[0m \u001b[0mself\u001b[0m\u001b[0;34m.\u001b[0m\u001b[0mlats\u001b[0m\u001b[0;34m]\u001b[0m\u001b[0;34m\u001b[0m\u001b[0m\n",
      "\u001b[0;31mTypeError\u001b[0m: dice() got multiple values for argument 'segment'"
     ]
    }
   ],
   "source": [
    "mm = MapMaker.MapMaker(geo_region_with_border)\n",
    "print(mm.gcc.x,mm.gcc.y)\n",
    "mm.position_maps()\n",
    "print(mm.n_images_x,mm.n_images_y)\n",
    "mm.maps.head()"
   ]
  },
  {
   "cell_type": "code",
   "execution_count": null,
   "metadata": {
    "collapsed": false
   },
   "outputs": [],
   "source": [
    "path = mm.make_big_map()\n",
    "print(path)"
   ]
  },
  {
   "cell_type": "code",
   "execution_count": null,
   "metadata": {
    "collapsed": false
   },
   "outputs": [],
   "source": []
  },
  {
   "cell_type": "code",
   "execution_count": null,
   "metadata": {
    "collapsed": true
   },
   "outputs": [],
   "source": []
  }
 ],
 "metadata": {
  "kernelspec": {
   "display_name": "Python 3",
   "language": "python",
   "name": "python3"
  },
  "language_info": {
   "codemirror_mode": {
    "name": "ipython",
    "version": 3
   },
   "file_extension": ".py",
   "mimetype": "text/x-python",
   "name": "python",
   "nbconvert_exporter": "python",
   "pygments_lexer": "ipython3",
   "version": "3.5.2"
  }
 },
 "nbformat": 4,
 "nbformat_minor": 2
}
